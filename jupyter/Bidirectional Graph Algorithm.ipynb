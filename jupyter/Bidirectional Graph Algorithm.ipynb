{
 "cells": [
  {
   "cell_type": "code",
   "execution_count": 1,
   "id": "82c48717",
   "metadata": {},
   "outputs": [],
   "source": [
    "from py2neo import Graph"
   ]
  },
  {
   "cell_type": "code",
   "execution_count": 2,
   "id": "aba0a92d",
   "metadata": {},
   "outputs": [
    {
     "ename": "ConnectionUnavailable",
     "evalue": "Cannot open connection to ConnectionProfile('bolt://localhost:7687')",
     "output_type": "error",
     "traceback": [
      "\u001b[1;31m---------------------------------------------------------------------------\u001b[0m",
      "\u001b[1;31mIndexError\u001b[0m                                Traceback (most recent call last)",
      "File \u001b[1;32m~\\AppData\\Local\\Programs\\Python\\Python39\\lib\\site-packages\\py2neo\\client\\__init__.py:806\u001b[0m, in \u001b[0;36mConnectionPool.acquire\u001b[1;34m(self, force_reset, can_overfill)\u001b[0m\n\u001b[0;32m    804\u001b[0m \u001b[38;5;28;01mtry\u001b[39;00m:\n\u001b[0;32m    805\u001b[0m     \u001b[38;5;66;03m# Plan A: select a free connection from the pool\u001b[39;00m\n\u001b[1;32m--> 806\u001b[0m     cx \u001b[38;5;241m=\u001b[39m \u001b[38;5;28;43mself\u001b[39;49m\u001b[38;5;241;43m.\u001b[39;49m\u001b[43m_free_list\u001b[49m\u001b[38;5;241;43m.\u001b[39;49m\u001b[43mpopleft\u001b[49m\u001b[43m(\u001b[49m\u001b[43m)\u001b[49m\n\u001b[0;32m    807\u001b[0m \u001b[38;5;28;01mexcept\u001b[39;00m \u001b[38;5;167;01mIndexError\u001b[39;00m:\n",
      "\u001b[1;31mIndexError\u001b[0m: pop from an empty deque",
      "\nDuring handling of the above exception, another exception occurred:\n",
      "\u001b[1;31mConnectionRefusedError\u001b[0m                    Traceback (most recent call last)",
      "File \u001b[1;32m~\\AppData\\Local\\Programs\\Python\\Python39\\lib\\site-packages\\py2neo\\wiring.py:62\u001b[0m, in \u001b[0;36mWire.open\u001b[1;34m(cls, address, timeout, keep_alive, on_broken)\u001b[0m\n\u001b[0;32m     61\u001b[0m \u001b[38;5;28;01mtry\u001b[39;00m:\n\u001b[1;32m---> 62\u001b[0m     \u001b[43ms\u001b[49m\u001b[38;5;241;43m.\u001b[39;49m\u001b[43mconnect\u001b[49m\u001b[43m(\u001b[49m\u001b[43maddress\u001b[49m\u001b[43m)\u001b[49m\n\u001b[0;32m     63\u001b[0m \u001b[38;5;28;01mexcept\u001b[39;00m (\u001b[38;5;167;01mIOError\u001b[39;00m, \u001b[38;5;167;01mOSError\u001b[39;00m) \u001b[38;5;28;01mas\u001b[39;00m error:\n",
      "\u001b[1;31mConnectionRefusedError\u001b[0m: [WinError 10061] Es konnte keine Verbindung hergestellt werden, da der Zielcomputer die Verbindung verweigerte",
      "\nThe above exception was the direct cause of the following exception:\n",
      "\u001b[1;31mWireError\u001b[0m                                 Traceback (most recent call last)",
      "File \u001b[1;32m~\\AppData\\Local\\Programs\\Python\\Python39\\lib\\site-packages\\py2neo\\client\\bolt.py:355\u001b[0m, in \u001b[0;36mBolt.open\u001b[1;34m(cls, profile, user_agent, on_release, on_broken)\u001b[0m\n\u001b[0;32m    354\u001b[0m \u001b[38;5;28;01mtry\u001b[39;00m:\n\u001b[1;32m--> 355\u001b[0m     wire \u001b[38;5;241m=\u001b[39m \u001b[38;5;28;43mcls\u001b[39;49m\u001b[38;5;241;43m.\u001b[39;49m\u001b[43m_connect\u001b[49m\u001b[43m(\u001b[49m\u001b[43mprofile\u001b[49m\u001b[43m,\u001b[49m\u001b[43m \u001b[49m\u001b[43mon_broken\u001b[49m\u001b[38;5;241;43m=\u001b[39;49m\u001b[43mon_broken\u001b[49m\u001b[43m)\u001b[49m\n\u001b[0;32m    356\u001b[0m     protocol_version \u001b[38;5;241m=\u001b[39m \u001b[38;5;28mcls\u001b[39m\u001b[38;5;241m.\u001b[39m_handshake(wire)\n",
      "File \u001b[1;32m~\\AppData\\Local\\Programs\\Python\\Python39\\lib\\site-packages\\py2neo\\client\\bolt.py:369\u001b[0m, in \u001b[0;36mBolt._connect\u001b[1;34m(cls, profile, on_broken)\u001b[0m\n\u001b[0;32m    368\u001b[0m log\u001b[38;5;241m.\u001b[39mdebug(\u001b[38;5;124m\"\u001b[39m\u001b[38;5;124m[#\u001b[39m\u001b[38;5;132;01m%04X\u001b[39;00m\u001b[38;5;124m] C: (Dialing <\u001b[39m\u001b[38;5;132;01m%s\u001b[39;00m\u001b[38;5;124m>)\u001b[39m\u001b[38;5;124m\"\u001b[39m, \u001b[38;5;241m0\u001b[39m, profile\u001b[38;5;241m.\u001b[39maddress)\n\u001b[1;32m--> 369\u001b[0m wire \u001b[38;5;241m=\u001b[39m \u001b[43mWire\u001b[49m\u001b[38;5;241;43m.\u001b[39;49m\u001b[43mopen\u001b[49m\u001b[43m(\u001b[49m\u001b[43mprofile\u001b[49m\u001b[38;5;241;43m.\u001b[39;49m\u001b[43maddress\u001b[49m\u001b[43m,\u001b[49m\u001b[43m \u001b[49m\u001b[43mkeep_alive\u001b[49m\u001b[38;5;241;43m=\u001b[39;49m\u001b[38;5;28;43;01mTrue\u001b[39;49;00m\u001b[43m,\u001b[49m\u001b[43m \u001b[49m\u001b[43mon_broken\u001b[49m\u001b[38;5;241;43m=\u001b[39;49m\u001b[43mon_broken\u001b[49m\u001b[43m)\u001b[49m\n\u001b[0;32m    370\u001b[0m local_port \u001b[38;5;241m=\u001b[39m wire\u001b[38;5;241m.\u001b[39mlocal_address\u001b[38;5;241m.\u001b[39mport_number\n",
      "File \u001b[1;32m~\\AppData\\Local\\Programs\\Python\\Python39\\lib\\site-packages\\py2neo\\wiring.py:64\u001b[0m, in \u001b[0;36mWire.open\u001b[1;34m(cls, address, timeout, keep_alive, on_broken)\u001b[0m\n\u001b[0;32m     63\u001b[0m \u001b[38;5;28;01mexcept\u001b[39;00m (\u001b[38;5;167;01mIOError\u001b[39;00m, \u001b[38;5;167;01mOSError\u001b[39;00m) \u001b[38;5;28;01mas\u001b[39;00m error:\n\u001b[1;32m---> 64\u001b[0m     \u001b[43mraise_from\u001b[49m\u001b[43m(\u001b[49m\u001b[43mWireError\u001b[49m\u001b[43m(\u001b[49m\u001b[38;5;124;43m\"\u001b[39;49m\u001b[38;5;124;43mCannot connect to \u001b[39;49m\u001b[38;5;132;43;01m%r\u001b[39;49;00m\u001b[38;5;124;43m\"\u001b[39;49m\u001b[43m \u001b[49m\u001b[38;5;241;43m%\u001b[39;49m\u001b[43m \u001b[49m\u001b[43m(\u001b[49m\u001b[43maddress\u001b[49m\u001b[43m,\u001b[49m\u001b[43m)\u001b[49m\u001b[43m)\u001b[49m\u001b[43m,\u001b[49m\u001b[43m \u001b[49m\u001b[43merror\u001b[49m\u001b[43m)\u001b[49m\n\u001b[0;32m     65\u001b[0m \u001b[38;5;28;01mreturn\u001b[39;00m \u001b[38;5;28mcls\u001b[39m(s, on_broken\u001b[38;5;241m=\u001b[39mon_broken)\n",
      "File \u001b[1;32m<string>:3\u001b[0m, in \u001b[0;36mraise_from\u001b[1;34m(value, from_value)\u001b[0m\n",
      "\u001b[1;31mWireError\u001b[0m: Cannot connect to IPv4Address(('localhost', 7687))",
      "\nThe above exception was the direct cause of the following exception:\n",
      "\u001b[1;31mConnectionUnavailable\u001b[0m                     Traceback (most recent call last)",
      "Cell \u001b[1;32mIn [2], line 6\u001b[0m\n\u001b[0;32m      2\u001b[0m neo4j_uri \u001b[38;5;241m=\u001b[39m \u001b[38;5;124m\"\u001b[39m\u001b[38;5;124mbolt://localhost:7687\u001b[39m\u001b[38;5;124m\"\u001b[39m  \u001b[38;5;66;03m# Replace with your Neo4j server URI\u001b[39;00m\n\u001b[0;32m      3\u001b[0m \u001b[38;5;66;03m#neo4j_user = \"your_username\"  # Replace with your Neo4j username\u001b[39;00m\n\u001b[0;32m      4\u001b[0m \u001b[38;5;66;03m#neo4j_password = \"your_password\"  # Replace with your Neo4j password\u001b[39;00m\n\u001b[1;32m----> 6\u001b[0m graph \u001b[38;5;241m=\u001b[39m \u001b[43mGraph\u001b[49m\u001b[43m(\u001b[49m\u001b[43mneo4j_uri\u001b[49m\u001b[43m)\u001b[49m\n",
      "File \u001b[1;32m~\\AppData\\Local\\Programs\\Python\\Python39\\lib\\site-packages\\py2neo\\database.py:288\u001b[0m, in \u001b[0;36mGraph.__init__\u001b[1;34m(self, profile, name, **settings)\u001b[0m\n\u001b[0;32m    287\u001b[0m \u001b[38;5;28;01mdef\u001b[39;00m \u001b[38;5;21m__init__\u001b[39m(\u001b[38;5;28mself\u001b[39m, profile\u001b[38;5;241m=\u001b[39m\u001b[38;5;28;01mNone\u001b[39;00m, name\u001b[38;5;241m=\u001b[39m\u001b[38;5;28;01mNone\u001b[39;00m, \u001b[38;5;241m*\u001b[39m\u001b[38;5;241m*\u001b[39msettings):\n\u001b[1;32m--> 288\u001b[0m     \u001b[38;5;28mself\u001b[39m\u001b[38;5;241m.\u001b[39mservice \u001b[38;5;241m=\u001b[39m GraphService(profile, \u001b[38;5;241m*\u001b[39m\u001b[38;5;241m*\u001b[39msettings)\n\u001b[0;32m    289\u001b[0m     \u001b[38;5;28mself\u001b[39m\u001b[38;5;241m.\u001b[39m\u001b[38;5;18m__name__\u001b[39m \u001b[38;5;241m=\u001b[39m name\n\u001b[0;32m    290\u001b[0m     \u001b[38;5;28mself\u001b[39m\u001b[38;5;241m.\u001b[39mschema \u001b[38;5;241m=\u001b[39m Schema(\u001b[38;5;28mself\u001b[39m)\n",
      "File \u001b[1;32m~\\AppData\\Local\\Programs\\Python\\Python39\\lib\\site-packages\\py2neo\\database.py:119\u001b[0m, in \u001b[0;36mGraphService.__init__\u001b[1;34m(self, profile, **settings)\u001b[0m\n\u001b[0;32m    116\u001b[0m \u001b[38;5;28;01mif\u001b[39;00m connector_settings[\u001b[38;5;124m\"\u001b[39m\u001b[38;5;124minit_size\u001b[39m\u001b[38;5;124m\"\u001b[39m] \u001b[38;5;129;01mis\u001b[39;00m \u001b[38;5;28;01mNone\u001b[39;00m \u001b[38;5;129;01mand\u001b[39;00m \u001b[38;5;129;01mnot\u001b[39;00m profile\u001b[38;5;241m.\u001b[39mrouting:\n\u001b[0;32m    117\u001b[0m     \u001b[38;5;66;03m# Ensures credentials are checked on construction\u001b[39;00m\n\u001b[0;32m    118\u001b[0m     connector_settings[\u001b[38;5;124m\"\u001b[39m\u001b[38;5;124minit_size\u001b[39m\u001b[38;5;124m\"\u001b[39m] \u001b[38;5;241m=\u001b[39m \u001b[38;5;241m1\u001b[39m\n\u001b[1;32m--> 119\u001b[0m \u001b[38;5;28mself\u001b[39m\u001b[38;5;241m.\u001b[39m_connector \u001b[38;5;241m=\u001b[39m Connector(profile, \u001b[38;5;241m*\u001b[39m\u001b[38;5;241m*\u001b[39mconnector_settings)\n\u001b[0;32m    120\u001b[0m \u001b[38;5;28mself\u001b[39m\u001b[38;5;241m.\u001b[39m_graphs \u001b[38;5;241m=\u001b[39m {}\n",
      "File \u001b[1;32m~\\AppData\\Local\\Programs\\Python\\Python39\\lib\\site-packages\\py2neo\\client\\__init__.py:960\u001b[0m, in \u001b[0;36mConnector.__init__\u001b[1;34m(self, profile, user_agent, init_size, max_size, max_age, routing_refresh_ttl)\u001b[0m\n\u001b[0;32m    958\u001b[0m \u001b[38;5;28;01melse\u001b[39;00m:\n\u001b[0;32m    959\u001b[0m     \u001b[38;5;28mself\u001b[39m\u001b[38;5;241m.\u001b[39m_router \u001b[38;5;241m=\u001b[39m \u001b[38;5;28;01mNone\u001b[39;00m\n\u001b[1;32m--> 960\u001b[0m \u001b[38;5;28;43mself\u001b[39;49m\u001b[38;5;241;43m.\u001b[39;49m\u001b[43m_add_pools\u001b[49m\u001b[43m(\u001b[49m\u001b[38;5;241;43m*\u001b[39;49m\u001b[38;5;28;43mself\u001b[39;49m\u001b[38;5;241;43m.\u001b[39;49m\u001b[43m_initial_routers\u001b[49m\u001b[43m)\u001b[49m\n",
      "File \u001b[1;32m~\\AppData\\Local\\Programs\\Python\\Python39\\lib\\site-packages\\py2neo\\client\\__init__.py:982\u001b[0m, in \u001b[0;36mConnector._add_pools\u001b[1;34m(self, *profiles)\u001b[0m\n\u001b[0;32m    980\u001b[0m     \u001b[38;5;28;01mcontinue\u001b[39;00m\n\u001b[0;32m    981\u001b[0m log\u001b[38;5;241m.\u001b[39mdebug(\u001b[38;5;124m\"\u001b[39m\u001b[38;5;124mAdding connection pool for profile \u001b[39m\u001b[38;5;132;01m%r\u001b[39;00m\u001b[38;5;124m\"\u001b[39m, profile)\n\u001b[1;32m--> 982\u001b[0m pool \u001b[38;5;241m=\u001b[39m \u001b[43mConnectionPool\u001b[49m\u001b[38;5;241;43m.\u001b[39;49m\u001b[43mopen\u001b[49m\u001b[43m(\u001b[49m\n\u001b[0;32m    983\u001b[0m \u001b[43m    \u001b[49m\u001b[43mprofile\u001b[49m\u001b[43m,\u001b[49m\n\u001b[0;32m    984\u001b[0m \u001b[43m    \u001b[49m\u001b[43muser_agent\u001b[49m\u001b[38;5;241;43m=\u001b[39;49m\u001b[38;5;28;43mself\u001b[39;49m\u001b[38;5;241;43m.\u001b[39;49m\u001b[43m_user_agent\u001b[49m\u001b[43m,\u001b[49m\n\u001b[0;32m    985\u001b[0m \u001b[43m    \u001b[49m\u001b[43minit_size\u001b[49m\u001b[38;5;241;43m=\u001b[39;49m\u001b[38;5;28;43mself\u001b[39;49m\u001b[38;5;241;43m.\u001b[39;49m\u001b[43m_init_size\u001b[49m\u001b[43m,\u001b[49m\n\u001b[0;32m    986\u001b[0m \u001b[43m    \u001b[49m\u001b[43mmax_size\u001b[49m\u001b[38;5;241;43m=\u001b[39;49m\u001b[38;5;28;43mself\u001b[39;49m\u001b[38;5;241;43m.\u001b[39;49m\u001b[43m_max_size\u001b[49m\u001b[43m,\u001b[49m\n\u001b[0;32m    987\u001b[0m \u001b[43m    \u001b[49m\u001b[43mmax_age\u001b[49m\u001b[38;5;241;43m=\u001b[39;49m\u001b[38;5;28;43mself\u001b[39;49m\u001b[38;5;241;43m.\u001b[39;49m\u001b[43m_max_age\u001b[49m\u001b[43m,\u001b[49m\n\u001b[0;32m    988\u001b[0m \u001b[43m    \u001b[49m\u001b[43mon_broken\u001b[49m\u001b[38;5;241;43m=\u001b[39;49m\u001b[38;5;28;43mself\u001b[39;49m\u001b[38;5;241;43m.\u001b[39;49m\u001b[43m_on_broken\u001b[49m\u001b[43m)\u001b[49m\n\u001b[0;32m    989\u001b[0m \u001b[38;5;28mself\u001b[39m\u001b[38;5;241m.\u001b[39m_pools[profile] \u001b[38;5;241m=\u001b[39m pool\n",
      "File \u001b[1;32m~\\AppData\\Local\\Programs\\Python\\Python39\\lib\\site-packages\\py2neo\\client\\__init__.py:649\u001b[0m, in \u001b[0;36mConnectionPool.open\u001b[1;34m(cls, profile, user_agent, init_size, max_size, max_age, on_broken)\u001b[0m\n\u001b[0;32m    627\u001b[0m \u001b[38;5;124;03m\"\"\" Create a new connection pool, with an option to seed one\u001b[39;00m\n\u001b[0;32m    628\u001b[0m \u001b[38;5;124;03mor more initial connections.\u001b[39;00m\n\u001b[0;32m    629\u001b[0m \n\u001b[1;32m   (...)\u001b[0m\n\u001b[0;32m    646\u001b[0m \u001b[38;5;124;03m    scheme\u001b[39;00m\n\u001b[0;32m    647\u001b[0m \u001b[38;5;124;03m\"\"\"\u001b[39;00m\n\u001b[0;32m    648\u001b[0m pool \u001b[38;5;241m=\u001b[39m \u001b[38;5;28mcls\u001b[39m(profile, user_agent, max_size, max_age, on_broken)\n\u001b[1;32m--> 649\u001b[0m seeds \u001b[38;5;241m=\u001b[39m [pool\u001b[38;5;241m.\u001b[39macquire() \u001b[38;5;28;01mfor\u001b[39;00m _ \u001b[38;5;129;01min\u001b[39;00m \u001b[38;5;28mrange\u001b[39m(init_size \u001b[38;5;129;01mor\u001b[39;00m \u001b[38;5;28mcls\u001b[39m\u001b[38;5;241m.\u001b[39mdefault_init_size)]\n\u001b[0;32m    650\u001b[0m \u001b[38;5;28;01mfor\u001b[39;00m seed \u001b[38;5;129;01min\u001b[39;00m seeds:\n\u001b[0;32m    651\u001b[0m     seed\u001b[38;5;241m.\u001b[39mrelease()\n",
      "File \u001b[1;32m~\\AppData\\Local\\Programs\\Python\\Python39\\lib\\site-packages\\py2neo\\client\\__init__.py:649\u001b[0m, in \u001b[0;36m<listcomp>\u001b[1;34m(.0)\u001b[0m\n\u001b[0;32m    627\u001b[0m \u001b[38;5;124;03m\"\"\" Create a new connection pool, with an option to seed one\u001b[39;00m\n\u001b[0;32m    628\u001b[0m \u001b[38;5;124;03mor more initial connections.\u001b[39;00m\n\u001b[0;32m    629\u001b[0m \n\u001b[1;32m   (...)\u001b[0m\n\u001b[0;32m    646\u001b[0m \u001b[38;5;124;03m    scheme\u001b[39;00m\n\u001b[0;32m    647\u001b[0m \u001b[38;5;124;03m\"\"\"\u001b[39;00m\n\u001b[0;32m    648\u001b[0m pool \u001b[38;5;241m=\u001b[39m \u001b[38;5;28mcls\u001b[39m(profile, user_agent, max_size, max_age, on_broken)\n\u001b[1;32m--> 649\u001b[0m seeds \u001b[38;5;241m=\u001b[39m [\u001b[43mpool\u001b[49m\u001b[38;5;241;43m.\u001b[39;49m\u001b[43macquire\u001b[49m\u001b[43m(\u001b[49m\u001b[43m)\u001b[49m \u001b[38;5;28;01mfor\u001b[39;00m _ \u001b[38;5;129;01min\u001b[39;00m \u001b[38;5;28mrange\u001b[39m(init_size \u001b[38;5;129;01mor\u001b[39;00m \u001b[38;5;28mcls\u001b[39m\u001b[38;5;241m.\u001b[39mdefault_init_size)]\n\u001b[0;32m    650\u001b[0m \u001b[38;5;28;01mfor\u001b[39;00m seed \u001b[38;5;129;01min\u001b[39;00m seeds:\n\u001b[0;32m    651\u001b[0m     seed\u001b[38;5;241m.\u001b[39mrelease()\n",
      "File \u001b[1;32m~\\AppData\\Local\\Programs\\Python\\Python39\\lib\\site-packages\\py2neo\\client\\__init__.py:813\u001b[0m, in \u001b[0;36mConnectionPool.acquire\u001b[1;34m(self, force_reset, can_overfill)\u001b[0m\n\u001b[0;32m    807\u001b[0m \u001b[38;5;28;01mexcept\u001b[39;00m \u001b[38;5;167;01mIndexError\u001b[39;00m:\n\u001b[0;32m    808\u001b[0m     \u001b[38;5;28;01mif\u001b[39;00m \u001b[38;5;28mself\u001b[39m\u001b[38;5;241m.\u001b[39m_has_capacity() \u001b[38;5;129;01mor\u001b[39;00m can_overfill:\n\u001b[0;32m    809\u001b[0m         \u001b[38;5;66;03m# Plan B: if the pool isn't full, open\u001b[39;00m\n\u001b[0;32m    810\u001b[0m         \u001b[38;5;66;03m# a new connection. This may raise a\u001b[39;00m\n\u001b[0;32m    811\u001b[0m         \u001b[38;5;66;03m# ConnectionUnavailable exception, which\u001b[39;00m\n\u001b[0;32m    812\u001b[0m         \u001b[38;5;66;03m# should bubble up to the caller.\u001b[39;00m\n\u001b[1;32m--> 813\u001b[0m         cx \u001b[38;5;241m=\u001b[39m \u001b[38;5;28;43mself\u001b[39;49m\u001b[38;5;241;43m.\u001b[39;49m\u001b[43m_connect\u001b[49m\u001b[43m(\u001b[49m\u001b[43m)\u001b[49m\n\u001b[0;32m    814\u001b[0m         \u001b[38;5;28;01mif\u001b[39;00m cx\u001b[38;5;241m.\u001b[39msupports_multi():\n\u001b[0;32m    815\u001b[0m             \u001b[38;5;28mself\u001b[39m\u001b[38;5;241m.\u001b[39m_supports_multi \u001b[38;5;241m=\u001b[39m \u001b[38;5;28;01mTrue\u001b[39;00m\n",
      "File \u001b[1;32m~\\AppData\\Local\\Programs\\Python\\Python39\\lib\\site-packages\\py2neo\\client\\__init__.py:764\u001b[0m, in \u001b[0;36mConnectionPool._connect\u001b[1;34m(self)\u001b[0m\n\u001b[0;32m    761\u001b[0m \u001b[38;5;28;01mdef\u001b[39;00m \u001b[38;5;21m_connect\u001b[39m(\u001b[38;5;28mself\u001b[39m):\n\u001b[0;32m    762\u001b[0m     \u001b[38;5;124;03m\"\"\" Open and return a new connection.\u001b[39;00m\n\u001b[0;32m    763\u001b[0m \u001b[38;5;124;03m    \"\"\"\u001b[39;00m\n\u001b[1;32m--> 764\u001b[0m     cx \u001b[38;5;241m=\u001b[39m \u001b[43mConnection\u001b[49m\u001b[38;5;241;43m.\u001b[39;49m\u001b[43mopen\u001b[49m\u001b[43m(\u001b[49m\u001b[38;5;28;43mself\u001b[39;49m\u001b[38;5;241;43m.\u001b[39;49m\u001b[43mprofile\u001b[49m\u001b[43m,\u001b[49m\u001b[43m \u001b[49m\u001b[43muser_agent\u001b[49m\u001b[38;5;241;43m=\u001b[39;49m\u001b[38;5;28;43mself\u001b[39;49m\u001b[38;5;241;43m.\u001b[39;49m\u001b[43muser_agent\u001b[49m\u001b[43m,\u001b[49m\n\u001b[0;32m    765\u001b[0m \u001b[43m                         \u001b[49m\u001b[43mon_release\u001b[49m\u001b[38;5;241;43m=\u001b[39;49m\u001b[38;5;28;43;01mlambda\u001b[39;49;00m\u001b[43m \u001b[49m\u001b[43mc\u001b[49m\u001b[43m:\u001b[49m\u001b[43m \u001b[49m\u001b[38;5;28;43mself\u001b[39;49m\u001b[38;5;241;43m.\u001b[39;49m\u001b[43mrelease\u001b[49m\u001b[43m(\u001b[49m\u001b[43mc\u001b[49m\u001b[43m)\u001b[49m\u001b[43m,\u001b[49m\n\u001b[0;32m    766\u001b[0m \u001b[43m                         \u001b[49m\u001b[43mon_broken\u001b[49m\u001b[38;5;241;43m=\u001b[39;49m\u001b[38;5;28;43;01mlambda\u001b[39;49;00m\u001b[43m \u001b[49m\u001b[43mmsg\u001b[49m\u001b[43m:\u001b[49m\u001b[43m \u001b[49m\u001b[38;5;28;43mself\u001b[39;49m\u001b[38;5;241;43m.\u001b[39;49m\u001b[43m__on_broken\u001b[49m\u001b[43m(\u001b[49m\u001b[43mmsg\u001b[49m\u001b[43m)\u001b[49m\u001b[43m)\u001b[49m\n\u001b[0;32m    767\u001b[0m     \u001b[38;5;28mself\u001b[39m\u001b[38;5;241m.\u001b[39m_server_agent \u001b[38;5;241m=\u001b[39m cx\u001b[38;5;241m.\u001b[39mserver_agent\n\u001b[0;32m    768\u001b[0m     \u001b[38;5;28;01mreturn\u001b[39;00m cx\n",
      "File \u001b[1;32m~\\AppData\\Local\\Programs\\Python\\Python39\\lib\\site-packages\\py2neo\\client\\__init__.py:174\u001b[0m, in \u001b[0;36mConnection.open\u001b[1;34m(cls, profile, user_agent, on_release, on_broken)\u001b[0m\n\u001b[0;32m    172\u001b[0m \u001b[38;5;28;01mif\u001b[39;00m profile\u001b[38;5;241m.\u001b[39mprotocol \u001b[38;5;241m==\u001b[39m \u001b[38;5;124m\"\u001b[39m\u001b[38;5;124mbolt\u001b[39m\u001b[38;5;124m\"\u001b[39m:\n\u001b[0;32m    173\u001b[0m     \u001b[38;5;28;01mfrom\u001b[39;00m \u001b[38;5;21;01mpy2neo\u001b[39;00m\u001b[38;5;21;01m.\u001b[39;00m\u001b[38;5;21;01mclient\u001b[39;00m\u001b[38;5;21;01m.\u001b[39;00m\u001b[38;5;21;01mbolt\u001b[39;00m \u001b[38;5;28;01mimport\u001b[39;00m Bolt\n\u001b[1;32m--> 174\u001b[0m     \u001b[38;5;28;01mreturn\u001b[39;00m \u001b[43mBolt\u001b[49m\u001b[38;5;241;43m.\u001b[39;49m\u001b[43mopen\u001b[49m\u001b[43m(\u001b[49m\u001b[43mprofile\u001b[49m\u001b[43m,\u001b[49m\u001b[43m \u001b[49m\u001b[43muser_agent\u001b[49m\u001b[38;5;241;43m=\u001b[39;49m\u001b[43muser_agent\u001b[49m\u001b[43m,\u001b[49m\n\u001b[0;32m    175\u001b[0m \u001b[43m                     \u001b[49m\u001b[43mon_release\u001b[49m\u001b[38;5;241;43m=\u001b[39;49m\u001b[43mon_release\u001b[49m\u001b[43m,\u001b[49m\u001b[43m \u001b[49m\u001b[43mon_broken\u001b[49m\u001b[38;5;241;43m=\u001b[39;49m\u001b[43mon_broken\u001b[49m\u001b[43m)\u001b[49m\n\u001b[0;32m    176\u001b[0m \u001b[38;5;28;01melif\u001b[39;00m profile\u001b[38;5;241m.\u001b[39mprotocol \u001b[38;5;241m==\u001b[39m \u001b[38;5;124m\"\u001b[39m\u001b[38;5;124mhttp\u001b[39m\u001b[38;5;124m\"\u001b[39m:\n\u001b[0;32m    177\u001b[0m     \u001b[38;5;28;01mfrom\u001b[39;00m \u001b[38;5;21;01mpy2neo\u001b[39;00m\u001b[38;5;21;01m.\u001b[39;00m\u001b[38;5;21;01mclient\u001b[39;00m\u001b[38;5;21;01m.\u001b[39;00m\u001b[38;5;21;01mhttp\u001b[39;00m \u001b[38;5;28;01mimport\u001b[39;00m HTTP\n",
      "File \u001b[1;32m~\\AppData\\Local\\Programs\\Python\\Python39\\lib\\site-packages\\py2neo\\client\\bolt.py:364\u001b[0m, in \u001b[0;36mBolt.open\u001b[1;34m(cls, profile, user_agent, on_release, on_broken)\u001b[0m\n\u001b[0;32m    362\u001b[0m     \u001b[38;5;28;01mreturn\u001b[39;00m bolt\n\u001b[0;32m    363\u001b[0m \u001b[38;5;28;01mexcept\u001b[39;00m (\u001b[38;5;167;01mTypeError\u001b[39;00m, WireError) \u001b[38;5;28;01mas\u001b[39;00m error:\n\u001b[1;32m--> 364\u001b[0m     \u001b[43mraise_from\u001b[49m\u001b[43m(\u001b[49m\u001b[43mConnectionUnavailable\u001b[49m\u001b[43m(\u001b[49m\u001b[38;5;124;43m\"\u001b[39;49m\u001b[38;5;124;43mCannot open connection to \u001b[39;49m\u001b[38;5;132;43;01m%r\u001b[39;49;00m\u001b[38;5;124;43m\"\u001b[39;49m\u001b[43m \u001b[49m\u001b[38;5;241;43m%\u001b[39;49m\u001b[43m \u001b[49m\u001b[43mprofile\u001b[49m\u001b[43m)\u001b[49m\u001b[43m,\u001b[49m\u001b[43m \u001b[49m\u001b[43merror\u001b[49m\u001b[43m)\u001b[49m\n",
      "File \u001b[1;32m<string>:3\u001b[0m, in \u001b[0;36mraise_from\u001b[1;34m(value, from_value)\u001b[0m\n",
      "\u001b[1;31mConnectionUnavailable\u001b[0m: Cannot open connection to ConnectionProfile('bolt://localhost:7687')"
     ]
    }
   ],
   "source": [
    "# Connect to your Neo4j database\n",
    "neo4j_uri = \"bolt://localhost:7687\"  # Replace with your Neo4j server URI\n",
    "#neo4j_user = \"your_username\"  # Replace with your Neo4j username\n",
    "#neo4j_password = \"your_password\"  # Replace with your Neo4j password\n",
    "\n",
    "graph = Graph(neo4j_uri)"
   ]
  },
  {
   "cell_type": "code",
   "execution_count": null,
   "id": "d7e115f6",
   "metadata": {},
   "outputs": [],
   "source": [
    "# Run the Cypher query to retrieve all nodes\n",
    "def get_all_nodes():\n",
    "    query = \"MATCH (node) RETURN node\"\n",
    "    result = graph.run(query)\n",
    "\n",
    "    # Fetch and display the results\n",
    "    #for record in result:\n",
    "        #print(record)\n",
    "    #print(result)\n",
    "    return result"
   ]
  },
  {
   "cell_type": "code",
   "execution_count": null,
   "id": "e03b3597",
   "metadata": {},
   "outputs": [],
   "source": [
    "# Run the Cypher query to retrieve all relations\n",
    "def get_all_relations():\n",
    "    query = \"MATCH (start)-[r]->(end) RETURN start, r, end\"\n",
    "    result = graph.run(query)\n",
    "\n",
    "    # Fetch and display the results\n",
    "    #for record in result:\n",
    "        #print(record)\n",
    "    #print(result)\n",
    "    return result"
   ]
  },
  {
   "cell_type": "code",
   "execution_count": null,
   "id": "8ff9f5c8",
   "metadata": {},
   "outputs": [],
   "source": [
    "def check_relation(node_a, node_b): \n",
    "    query = (\n",
    "    \"MATCH (a)-[r]->(b) \"\n",
    "    \"WHERE a.name = $node_a AND b.name = $node_b \"\n",
    "    \"RETURN COUNT(r) AS count \"\n",
    "    )\n",
    "\n",
    "    result = graph.run(query, node_a=node_a, node_b=node_b).data()\n",
    "\n",
    "    # Check if the relationship exists (count > 0)\n",
    "    if result[0]['count'] > 0:\n",
    "        print(f\"Relationship exists between nodes {node_a} and {node_b}.\")\n",
    "        return True\n",
    "    else:\n",
    "        print(f\"No relationship found between nodes {node_a} and {node_b}.\")\n",
    "        return False\n",
    "    \n",
    "\n",
    "    #result = graph.run(query)\n",
    "\n",
    "    # Fetch and display the results\n",
    "    #for record in result:\n",
    "        #print(record)\n",
    "    #print(result)\n",
    "    \n",
    "    #return result"
   ]
  },
  {
   "cell_type": "code",
   "execution_count": null,
   "id": "43ef67b2",
   "metadata": {},
   "outputs": [],
   "source": [
    "def add_rel(node_a, node_b, occur):\n",
    "\n",
    "    # Relationship type and property\n",
    "    #relationship_type = \"IS_CONNECTED\"  # Replace with the desired relationship type\n",
    "\n",
    "    # Cypher query to create a new relationship with a \"count\" property\n",
    "    query = (\n",
    "        \"MATCH (a), (b) \"\n",
    "        \"WHERE a.name = $node_a AND b.name = $node_b \"\n",
    "        \"CREATE (a)-[r:IS_CONNECTED]->(b) \"\n",
    "        \"SET r.count = $occur \"\n",
    "        \"RETURN r\"\n",
    "    )\n",
    "\n",
    "    result = graph.run(query, node_a=node_a, node_b=node_b, occur=occur).data()\n",
    "\n",
    "    # Check the result or print a message\n",
    "    if result:\n",
    "        print(f\"Created new IS_CONNECTED relationship between nodes '{node_a}' and '{node_b}' with 'count' property set to {occur}.\")\n",
    "    else:\n",
    "        print(f\"Nodes with names '{node_a}' and '{node_b}' not found.\")"
   ]
  },
  {
   "cell_type": "code",
   "execution_count": null,
   "id": "0ec3ffae",
   "metadata": {},
   "outputs": [],
   "source": [
    "def add_occur_to_rel(node_a, node_b, occur):\n",
    "    # Relationship type\n",
    "    #relationship_type = \"IS_CONNECTED\"  # Replace with the actual relationship type\n",
    "\n",
    "    # Cypher query to add the number to the \"count\" property of the relationship\n",
    "    query = (\n",
    "        \"MATCH (a)-[r:IS_CONNECTED]->(b) \"\n",
    "        \"WHERE a.name = $node_a AND b.name = $node_b \"\n",
    "        \"SET r.count = COALESCE(r.count, 0) + $occur \"\n",
    "        \"RETURN r\"\n",
    "    )\n",
    "\n",
    "    result = graph.run(query, node_a=node_a, node_b=node_b, occur=occur).data()\n",
    "\n",
    "    # Check the result or print a message\n",
    "    if result:\n",
    "        print(f\"Added {occur} to the 'count' property of the IS_CONNECTED relationship between nodes '{node_a}' and '{node_b}'.\")\n",
    "    else:\n",
    "        print(f\"Relationship not found between nodes '{node_a}' and '{node_b}'.\")"
   ]
  },
  {
   "cell_type": "code",
   "execution_count": null,
   "id": "074b7f58",
   "metadata": {},
   "outputs": [],
   "source": [
    "def add_occur_to_node(node, number):\n",
    "    # Cypher query to add the number to the \"occur\" property\n",
    "    query = (\n",
    "        \"MATCH (a) WHERE a.name = $node \"\n",
    "        \"SET a.occur = COALESCE(a.occur, 0) + $number \"\n",
    "        \"RETURN a\"\n",
    "    )\n",
    "\n",
    "    result = graph.run(query, node=node, number=number).data()\n",
    "\n",
    "    # Check the result or print a message\n",
    "    if result:\n",
    "        print(f\"Added {number} to the 'occur' property of node '{node}'.\")\n",
    "    else:\n",
    "        print(f\"Node with name '{node}' not found.\")"
   ]
  },
  {
   "cell_type": "code",
   "execution_count": null,
   "id": "42e484d7",
   "metadata": {},
   "outputs": [],
   "source": [
    "def add_inverted_relations():\n",
    "    \n",
    "    relations = list(get_all_relations())\n",
    "\n",
    "    for record in relations:\n",
    "        start_node = record[\"start\"]\n",
    "        end_node = record[\"end\"]\n",
    "        relationship = record[\"r\"]\n",
    "        relation_start_node = start_node.get(\"name\")\n",
    "        relation_end_node = end_node.get(\"name\")\n",
    "        relation_count = relationship.get('count')\n",
    "\n",
    "        print(f\"Start Node: {relation_start_node}, End Node: {relation_end_node}, Count: {relation_count}\")\n",
    "        if (check_relation(relation_end_node, relation_start_node)):\n",
    "            print(\"Relation found!\")\n",
    "            add_occur_to_rel(relation_start_node, relation_end_node, relation_count)\n",
    "        else:\n",
    "            print(\"Relation not found, adding a new one!\")\n",
    "            add_rel(relation_end_node, relation_start_node, relation_count)\n",
    "        \n",
    "        print(\"Adding occurences to nodes\")\n",
    "        add_occur_to_node(relation_start_node, relation_count)\n",
    "        add_occur_to_node(relation_end_node, relation_count)\n",
    "        \n",
    "    print(\"ALL DONE!\")\n",
    "    \n",
    "        # Write the output file\n",
    "        #output_filename = f'Relationships.txt'\n",
    "        #with open(os.path.join(abs_folder_path, output_filename), 'a', encoding=\"utf-8\") as output_file:\n",
    "        #    output_file.write(f\"|{relation_start_node}|{relation_end_node}|{relation_count}|\\n\")\n",
    "\n"
   ]
  },
  {
   "cell_type": "code",
   "execution_count": null,
   "id": "2204eb00",
   "metadata": {},
   "outputs": [],
   "source": [
    "add_inverted_relations()"
   ]
  },
  {
   "cell_type": "code",
   "execution_count": null,
   "id": "4b1f9f5a",
   "metadata": {},
   "outputs": [],
   "source": []
  },
  {
   "cell_type": "code",
   "execution_count": null,
   "id": "666ce95b",
   "metadata": {},
   "outputs": [],
   "source": []
  },
  {
   "cell_type": "code",
   "execution_count": null,
   "id": "6b456635",
   "metadata": {},
   "outputs": [],
   "source": []
  }
 ],
 "metadata": {
  "kernelspec": {
   "display_name": "Python 3 (ipykernel)",
   "language": "python",
   "name": "python3"
  },
  "language_info": {
   "codemirror_mode": {
    "name": "ipython",
    "version": 3
   },
   "file_extension": ".py",
   "mimetype": "text/x-python",
   "name": "python",
   "nbconvert_exporter": "python",
   "pygments_lexer": "ipython3",
   "version": "3.9.9"
  }
 },
 "nbformat": 4,
 "nbformat_minor": 5
}
