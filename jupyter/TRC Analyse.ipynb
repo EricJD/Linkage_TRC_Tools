{
 "cells": [
  {
   "cell_type": "markdown",
   "id": "a3e1e310",
   "metadata": {},
   "source": [
    "Imports"
   ]
  },
  {
   "cell_type": "code",
   "execution_count": 1,
   "id": "866c5969",
   "metadata": {},
   "outputs": [],
   "source": [
    "import os\n",
    "import re\n",
    "from py2neo import Graph"
   ]
  },
  {
   "cell_type": "markdown",
   "id": "2595804f",
   "metadata": {},
   "source": [
    "Variablen"
   ]
  },
  {
   "cell_type": "code",
   "execution_count": 2,
   "id": "2af43038",
   "metadata": {},
   "outputs": [],
   "source": [
    "# Global variables \n",
    "home_dir = os.getcwd()\n",
    "folder_path_cooccs = 'Data\\\\TRC\\\\cooccs'\n",
    "folder_path_linkage = 'Data\\\\TRC\\\\linkage'\n",
    "folder_path_output = 'Data\\\\TRC\\\\TRCcompare'\n",
    "abs_folder_path_cooccs = os.path.join(home_dir, folder_path_cooccs)\n",
    "abs_folder_path_linkage = os.path.join(home_dir, folder_path_linkage)\n",
    "abs_folder_path_output = os.path.join(home_dir, folder_path_output)"
   ]
  },
  {
   "cell_type": "code",
   "execution_count": 3,
   "id": "89c20288",
   "metadata": {},
   "outputs": [],
   "source": [
    "# Connect to the Neo4j database\n",
    "graph = Graph(\"bolt://localhost:7687\")"
   ]
  },
  {
   "cell_type": "markdown",
   "id": "8db0e10a",
   "metadata": {},
   "source": [
    "Methoden"
   ]
  },
  {
   "cell_type": "code",
   "execution_count": 4,
   "id": "9e5c32e9",
   "metadata": {},
   "outputs": [],
   "source": [
    "# Function to compare the strings in two files\n",
    "def compare_files(file1, file2):\n",
    "    pattern = r\".*?_\"\n",
    "    \n",
    "    with open(file1, 'r') as f1, open(file2, 'r') as f2:\n",
    "        # Read the first lines from both files and remove leading/trailing whitespaces\n",
    "        line1 = f1.readline().strip()\n",
    "        line2 = f2.readline().strip()\n",
    "\n",
    "        # Extract the desired strings (String 1 and String 2) from both lines\n",
    "        str1_f1, str2_f1, str3_f1 = line1.split(';')\n",
    "        str1_f1 = re.sub(pattern, \"\", str1_f1)\n",
    "        str1_f2, str2_f2, str3_f2 = line2.split(';')\n",
    "        str1_f2 = re.sub(pattern, \"\", str1_f2)\n",
    "\n",
    "        # Compare the extracted strings, check for empty strings and return the results\n",
    "        return str1_f1 == str1_f2, str2_f1 == str2_f2, len(str2_f1) == 0, len(str2_f2) == 0, str1_f1, str2_f1, str2_f2"
   ]
  },
  {
   "cell_type": "code",
   "execution_count": 5,
   "id": "ffac2d9f",
   "metadata": {},
   "outputs": [],
   "source": [
    "# Get nodes based on their name attributes\n",
    "def get_node_by_name(name):\n",
    "    # Clean the string\n",
    "    name = name.replace(\"'\", '')\n",
    "    # Create a Cypher query to find a node with the given name attribute\n",
    "    cypher_query = f\"MATCH (n {{name: '{name}'}}) RETURN n LIMIT 1\"\n",
    "    # Run the Cypher query and retrieve the result as a single node\n",
    "    result = graph.run(cypher_query).evaluate()\n",
    "    return result"
   ]
  },
  {
   "cell_type": "code",
   "execution_count": 6,
   "id": "ac333350",
   "metadata": {},
   "outputs": [],
   "source": [
    "# Find the shortest path between the nodes\n",
    "def find_shortest_path(start_name, end_name):\n",
    "    # Get the start and end nodes using the provided names\n",
    "    start_node = get_node_by_name(start_name)\n",
    "    end_node = get_node_by_name(end_name)\n",
    "    \n",
    "    #print(start_node, end_node)\n",
    "    #print(f\"Node 1: \" + start_name)\n",
    "    #print(f\"Node 2: \" + end_name)\n",
    "    \n",
    "    # Check if either start or end node is not found in the database\n",
    "    if start_node is None or end_node is None:\n",
    "        return None\n",
    "    \n",
    "    # Create a Cypher query to find the shortest path between the nodes\n",
    "    cypher_query = (\n",
    "        f\"MATCH \"\n",
    "        \"(TRC1:SINGLE_NODE {name: $start_name}), \"\n",
    "        \"(TRC2:SINGLE_NODE {name: $end_name}), \"\n",
    "        \"p = shortestPath((TRC1)-[*]-(TRC2)) \"\n",
    "        #\"WHERE TRC1<>TRC2 \"\n",
    "        \"RETURN length(p) AS length\"\n",
    "    )\n",
    "    \n",
    "    # Run the Cypher query and retrieve the shortest path length as the result\n",
    "    result = graph.run(cypher_query, start_name=start_name, end_name=end_name).evaluate()\n",
    "\n",
    "    return int(result) if result is not None else None\n"
   ]
  },
  {
   "cell_type": "markdown",
   "id": "436b11ae",
   "metadata": {},
   "source": [
    "Main"
   ]
  },
  {
   "cell_type": "code",
   "execution_count": 7,
   "id": "8e37a3f1",
   "metadata": {
    "scrolled": true
   },
   "outputs": [
    {
     "name": "stdout",
     "output_type": "stream",
     "text": [
      "Not found in Graph: Plastics and pollution\n",
      "Not found in Graph: Districts of Indonesia\n",
      "Not found in Graph: The Guardian\n",
      "Not found in Graph: The Guardian\n",
      "Not found in Graph: Gulf of Mexico\n",
      "Not found in Graph: Plastics and pollution\n",
      "Not found in Graph: Environmental effects of shipping\n",
      "Not found in Graph: Gulf of Mexico\n",
      "Compared Terms: 78\n",
      "Normal TRCs not found by toolbox: 0\n",
      "Linkage TRCs not found by toolbox: 0\n",
      "TRC Nodes not found inside the graph: 8\n",
      "\n",
      "\n",
      "TRCs that could be compared: 70\n",
      "Same TRCs: 0\n",
      "% of TRCs identical: 0.0\n",
      "Average path length between all TRCs: 1.5\n",
      "Average path length between differing TRCs: 1.5\n"
     ]
    }
   ],
   "source": [
    "folder1 = abs_folder_path_cooccs\n",
    "folder2 = abs_folder_path_linkage\n",
    "\n",
    "\n",
    "ComparedTerms = 0\n",
    "SameTRCs = 0\n",
    "TRCPath = 0\n",
    "LastPath = 0\n",
    "NodeNotFoundCount = 0\n",
    "TRCsNotFound1 = 0\n",
    "TRCsNotFound2 = 0\n",
    "\n",
    "# Iterate through the files in both folders simultaneously\n",
    "for filename1, filename2 in zip(os.listdir(folder1), os.listdir(folder2)):\n",
    "    file1 = os.path.join(folder1, filename1)\n",
    "    file2 = os.path.join(folder2, filename2)\n",
    "\n",
    "    # Compare the strings in the current pair of files\n",
    "    is_same_str1, is_same_str2, str2_f1_empty, str2_f2_empty, str1_f1, str2_f1, str2_f2 = compare_files(file1, file2)\n",
    "\n",
    "    # Count missing TRCs\n",
    "    if str2_f1_empty:\n",
    "        TRCsNotFound1 += 1\n",
    "    if str2_f2_empty:\n",
    "        TRCsNotFound2 += 1\n",
    "\n",
    "    # print(is_same_str1, is_same_str2, str2_f1, str2_f2, str1_f1)\n",
    "\n",
    "    # Update counters based on comparison results\n",
    "    if is_same_str1:\n",
    "        ComparedTerms += 1\n",
    "\n",
    "    if is_same_str2:\n",
    "        SameTRCs += 1\n",
    "\n",
    "    # Get path length between TRCs\n",
    "    if not is_same_str2:\n",
    "        LastPath = \"NodeNotFound\"\n",
    "        Path = find_shortest_path(str2_f1, str2_f2)\n",
    "        #print(Path)\n",
    "        if Path is not None:\n",
    "            LastPath = Path\n",
    "            TRCPath += Path \n",
    "        if Path is None:\n",
    "            NodeNotFoundCount += 1\n",
    "            print(f\"Not found in Graph: {str2_f2}\")\n",
    "\n",
    "    # Write the output file\n",
    "    output_filename = f'TRCCompare_{str1_f1}.txt'\n",
    "    with open(os.path.join(abs_folder_path_output, output_filename), 'w') as output_file:\n",
    "        output_file.write(f\"{str2_f1};{'[TRC_identical]' if is_same_str2 else str2_f2};{'Node distance: '+str(LastPath)}\\n\")\n",
    "\n",
    "ActualComparisons = ComparedTerms - NodeNotFoundCount\n",
    "NodeNotInGraph = NodeNotFoundCount - (TRCsNotFound1 + TRCsNotFound2)\n",
    "PercentTRCSame = SameTRCs/ActualComparisons * 100\n",
    "AveragePathAll = TRCPath/(ActualComparisons)\n",
    "if SameTRCs != ActualComparisons:\n",
    "    AveragePathDiff = TRCPath/(ActualComparisons-SameTRCs)\n",
    "else:\n",
    "    AveragePathDiff = 0\n",
    "\n",
    "# Print the final results\n",
    "print(f\"Compared Terms: {ComparedTerms}\")\n",
    "print(f\"Normal TRCs not found by toolbox: {TRCsNotFound1}\")\n",
    "print(f\"Linkage TRCs not found by toolbox: {TRCsNotFound2}\")\n",
    "print(f\"TRC Nodes not found inside the graph: {NodeNotInGraph}\")\n",
    "print(f\"\\n\")\n",
    "print(f\"TRCs that could be compared: {ActualComparisons}\")\n",
    "print(f\"Same TRCs: {SameTRCs}\")\n",
    "print(f\"% of TRCs identical: {PercentTRCSame}\")\n",
    "print(f\"Average path length between all TRCs: {AveragePathAll}\")\n",
    "print(f\"Average path length between differing TRCs: {AveragePathDiff}\")"
   ]
  },
  {
   "cell_type": "code",
   "execution_count": null,
   "id": "abe50f56",
   "metadata": {},
   "outputs": [],
   "source": []
  },
  {
   "cell_type": "code",
   "execution_count": null,
   "id": "dace6715",
   "metadata": {},
   "outputs": [],
   "source": []
  },
  {
   "cell_type": "code",
   "execution_count": null,
   "id": "8f8b4eb8",
   "metadata": {},
   "outputs": [],
   "source": []
  }
 ],
 "metadata": {
  "kernelspec": {
   "display_name": "Python 3 (ipykernel)",
   "language": "python",
   "name": "python3"
  },
  "language_info": {
   "codemirror_mode": {
    "name": "ipython",
    "version": 3
   },
   "file_extension": ".py",
   "mimetype": "text/x-python",
   "name": "python",
   "nbconvert_exporter": "python",
   "pygments_lexer": "ipython3",
   "version": "3.9.9"
  }
 },
 "nbformat": 4,
 "nbformat_minor": 5
}
